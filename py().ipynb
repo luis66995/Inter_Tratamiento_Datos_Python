{
  "nbformat": 4,
  "nbformat_minor": 0,
  "metadata": {
    "colab": {
      "name": "py().ipynb",
      "private_outputs": true,
      "provenance": [],
      "authorship_tag": "ABX9TyOZw9rmQdP7Qhk4AtuAHZtJ",
      "include_colab_link": true
    },
    "kernelspec": {
      "name": "python3",
      "display_name": "Python 3"
    },
    "language_info": {
      "name": "python"
    }
  },
  "cells": [
    {
      "cell_type": "markdown",
      "metadata": {
        "id": "view-in-github",
        "colab_type": "text"
      },
      "source": [
        "<a href=\"https://colab.research.google.com/github/luis66995/Inter_Tratamiento_Datos_Python/blob/main/py().ipynb\" target=\"_parent\"><img src=\"https://colab.research.google.com/assets/colab-badge.svg\" alt=\"Open In Colab\"/></a>"
      ]
    },
    {
      "cell_type": "code",
      "execution_count": null,
      "metadata": {
        "id": "RKg0Ou4DhZLy"
      },
      "outputs": [],
      "source": [
        "a=0\n",
        "print(a)\n",
        "b=1\n",
        "print(b)\n",
        "#serie fibonaci\n",
        "for x in range(98):\n",
        "\n",
        "  r=a+b\n",
        "  a=b\n",
        "  b=r\n",
        "  print(r)"
      ]
    },
    {
      "cell_type": "code",
      "source": [
        "palabra=\"Datos\"\n",
        "\n",
        "for letra in palabra:\n",
        "  print(letra)\n",
        "  if letra ==\"t\":\n",
        "    break"
      ],
      "metadata": {
        "id": "xQWllSgmjwbF"
      },
      "execution_count": null,
      "outputs": []
    },
    {
      "cell_type": "code",
      "source": [
        "#ciclos anidados\n",
        "for i in range(1,10):\n",
        "  for j in range(1,10):\n",
        "    r=i*j\n",
        "  print(f'{i}*{j}={r}')\n",
        "  print{''}\n"
      ],
      "metadata": {
        "id": "GwI8E-uYkSX1"
      },
      "execution_count": null,
      "outputs": []
    },
    {
      "cell_type": "code",
      "source": [
        "VOCALES = 'aeiou'\n",
        "frase = 'Supercalifragilisticoespialidoso'\n",
        "\n",
        "no_vocales=0\n",
        "for letra in frase.lower():\n",
        "  if letra  in VOCALES:\n",
        "    no_vocales+=1\n",
        "print(no_vocales)  \n",
        "\n"
      ],
      "metadata": {
        "id": "T9dDJ-NolZ2g"
      },
      "execution_count": null,
      "outputs": []
    },
    {
      "cell_type": "code",
      "source": [
        "#listas\n",
        "compra = ['Agua', 'Huevos', 'Aceite', 'Sal', 'Limón']\n",
        "detalle = ['mineral natural', 'organicos', 'de oliva virgen', 'de mar', 'verde']\n",
        "\n",
        "for producto in compra:\n",
        "  print(producto)\n",
        "#enumerar\n",
        "len(producto)  \n",
        "for i, producto in enumerate(compra):\n",
        "   print(i, producto)\n",
        "\n",
        "#zip\n",
        "\n",
        "for producto,detail in zip(compra, detalle):\n",
        "  print(producto,detail)\n",
        "\n",
        "print(list(zip(compra,detalle)))\n",
        "\n",
        "\n",
        "\n"
      ],
      "metadata": {
        "id": "1n3O3kvxmPrm"
      },
      "execution_count": null,
      "outputs": []
    },
    {
      "cell_type": "code",
      "source": [
        "valores='32,45,11,87,20,48'\n",
        "\n",
        "lista_valores=[]\n",
        "\n",
        "for valores in valores.split(','):\n",
        "  lista_valores.append(int(valores))\n",
        "print(lista_valores)  "
      ],
      "metadata": {
        "id": "sTQ58DOwn3Mv"
      },
      "execution_count": null,
      "outputs": []
    },
    {
      "cell_type": "code",
      "source": [
        "lista_enteros=[int(valor) for valor in valores.split(',')]\n",
        "print(lista_enteros)"
      ],
      "metadata": {
        "id": "YAmg-UaSon_h"
      },
      "execution_count": null,
      "outputs": []
    },
    {
      "cell_type": "code",
      "source": [
        "lista = ['pan', 'jamon', 100, 123.45]\n",
        "print(lista)\n",
        "print(lista[-1])"
      ],
      "metadata": {
        "id": "9mzuxE0SpD_T"
      },
      "execution_count": null,
      "outputs": []
    },
    {
      "cell_type": "code",
      "source": [
        "lista.append(\"jugo\")\n",
        "lista\n",
        "lista.count(100)\n",
        "lista.extend([40,'cebolla',10])\n",
        "lista"
      ],
      "metadata": {
        "id": "S21PIWfCppeH"
      },
      "execution_count": null,
      "outputs": []
    },
    {
      "cell_type": "code",
      "source": [
        "lista.append([\"tocino\",90 ])\n",
        "lista"
      ],
      "metadata": {
        "id": "YgaRaDXnqNZx"
      },
      "execution_count": null,
      "outputs": []
    },
    {
      "cell_type": "code",
      "source": [
        "lista.extend(range(580,585))\n",
        "lista.pop(range(80,85))\n",
        "lista"
      ],
      "metadata": {
        "id": "SVRw7hsEqjjG"
      },
      "execution_count": null,
      "outputs": []
    },
    {
      "cell_type": "code",
      "source": [
        "#lista.remove(100)"
      ],
      "metadata": {
        "id": "4uZvLfV9xgwE"
      },
      "execution_count": null,
      "outputs": []
    },
    {
      "cell_type": "code",
      "source": [
        "for n in range(12,23):\n",
        "#  lista.pop(14)\n"
      ],
      "metadata": {
        "id": "-OFipsIHy4Qg"
      },
      "execution_count": null,
      "outputs": []
    },
    {
      "cell_type": "code",
      "source": [
        "#funciones en listas\n",
        "lista.insert(3,\"mostaza\")\n",
        "lista[0]=\"pan integral\"\n",
        "lista"
      ],
      "metadata": {
        "id": "ept3xKCgrQo2"
      },
      "execution_count": null,
      "outputs": []
    },
    {
      "cell_type": "code",
      "source": [
        "#imprimir todos los elemententos de la lista\n",
        "lista[:]"
      ],
      "metadata": {
        "id": "29CSTcRkrw4v"
      },
      "execution_count": null,
      "outputs": []
    },
    {
      "cell_type": "code",
      "source": [
        "lista[4:40]"
      ],
      "metadata": {
        "id": "Aq1VJVgor9Qs"
      },
      "execution_count": null,
      "outputs": []
    },
    {
      "cell_type": "code",
      "source": [
        "lista2=lista\n",
        "print(lista)\n",
        "print(lista2)"
      ],
      "metadata": {
        "id": "hZ_H3cxMsZU8"
      },
      "execution_count": null,
      "outputs": []
    },
    {
      "cell_type": "code",
      "source": [
        "lista[1]=\"tocino\"\n",
        "print(lista)\n",
        "print(lista2)"
      ],
      "metadata": {
        "id": "x6tGSbEKsjQ5"
      },
      "execution_count": null,
      "outputs": []
    },
    {
      "cell_type": "code",
      "source": [
        "#crear una copía de tu lista\n",
        "\n",
        "lista2=lista[:]\n",
        "print(lista)\n",
        "print(lista2)"
      ],
      "metadata": {
        "id": "bAxlvSd7s61n"
      },
      "execution_count": null,
      "outputs": []
    },
    {
      "cell_type": "code",
      "source": [
        "#sumar listas\n",
        "lista2=lista+lista\n",
        "lista"
      ],
      "metadata": {
        "id": "e1ctexwatf66"
      },
      "execution_count": null,
      "outputs": []
    },
    {
      "cell_type": "code",
      "source": [
        "#conjuntos\n",
        "lista_cursos = ['Python', 'Ciencia de datos', 'Big Data', 'Python', 'Base de datos']\n",
        "lista_cursos"
      ],
      "metadata": {
        "id": "yxlexwLSt0py"
      },
      "execution_count": null,
      "outputs": []
    },
    {
      "cell_type": "code",
      "source": [
        "#conjuntos\n",
        "set_cursos=set(lista_cursos)\n",
        "set_cursos"
      ],
      "metadata": {
        "id": "gVQNyc0kuCCD"
      },
      "execution_count": null,
      "outputs": []
    },
    {
      "cell_type": "code",
      "source": [
        "set_cursos2 = set(['Python', 'Pandas', 'Mineria', 'Base de datos'])\n",
        "set_cursos2"
      ],
      "metadata": {
        "id": "SZh9_lyVuc-Z"
      },
      "execution_count": null,
      "outputs": []
    },
    {
      "cell_type": "code",
      "source": [
        "sumadeccon=set_cursos.union(set_cursos2)\n",
        "sumadeccon"
      ],
      "metadata": {
        "id": "T_rwwgBNupH8"
      },
      "execution_count": null,
      "outputs": []
    },
    {
      "cell_type": "code",
      "source": [
        "#diccionarios\n",
        "diccionario = {'nombre' : 'Juan', 'edad' : 22, 'cursos': ['Python','Ciencia de datos','Big Data'] }\n",
        "diccionario\n"
      ],
      "metadata": {
        "id": "YOyyS5L1vSr0"
      },
      "execution_count": null,
      "outputs": []
    },
    {
      "cell_type": "code",
      "source": [
        "diccionario['cursos']\n",
        "for c in diccionario['cursos']:\n",
        "  print(c)"
      ],
      "metadata": {
        "id": "ZWo_U_HpvyXo"
      },
      "execution_count": null,
      "outputs": []
    },
    {
      "cell_type": "code",
      "source": [
        "#llaves de diciionario \n",
        "\n",
        "for k in diccionario.keys():\n",
        "  print(k)"
      ],
      "metadata": {
        "id": "emke67FTwGGN"
      },
      "execution_count": null,
      "outputs": []
    },
    {
      "cell_type": "code",
      "source": [
        "for v in diccionario.values():\n",
        "  print(v)"
      ],
      "metadata": {
        "id": "2kNB1-PKwbjx"
      },
      "execution_count": null,
      "outputs": []
    },
    {
      "cell_type": "code",
      "source": [
        "for i in diccionario.items():\n",
        "  print(i)"
      ],
      "metadata": {
        "id": "V2KW8OghwlZi"
      },
      "execution_count": null,
      "outputs": []
    },
    {
      "cell_type": "code",
      "source": [
        "datos=('Tokyo:38140000;Delhi:26454000;Shanghai:24484000;'\n",
        "    'Mumbai:21357000;São Paulo:21297000;CDMX:24800000,')\n",
        "\n",
        "datos"
      ],
      "metadata": {
        "id": "yTZ2Eur80RyF"
      },
      "execution_count": null,
      "outputs": []
    },
    {
      "cell_type": "code",
      "source": [
        "ciudades = {}\n",
        "for r in datos.split(';'):\n",
        "  ciudad, poblacion = r.split(':')\n",
        "  ciudades[ciudad] = int(poblacion)\n",
        "\n",
        "ciudades"
      ],
      "metadata": {
        "id": "o5P4TqqC0dvl"
      },
      "execution_count": null,
      "outputs": []
    }
  ]
}