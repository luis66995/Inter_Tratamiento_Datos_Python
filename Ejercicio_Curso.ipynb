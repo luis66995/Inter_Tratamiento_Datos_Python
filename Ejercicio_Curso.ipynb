{
  "nbformat": 4,
  "nbformat_minor": 0,
  "metadata": {
    "colab": {
      "name": "Ejercicio_Curso.ipynb",
      "private_outputs": true,
      "provenance": [],
      "collapsed_sections": [],
      "authorship_tag": "ABX9TyOHEbiqsWUjV/n+EAZ/Jah5",
      "include_colab_link": true
    },
    "kernelspec": {
      "name": "python3",
      "display_name": "Python 3"
    },
    "language_info": {
      "name": "python"
    }
  },
  "cells": [
    {
      "cell_type": "markdown",
      "metadata": {
        "id": "view-in-github",
        "colab_type": "text"
      },
      "source": [
        "<a href=\"https://colab.research.google.com/github/luis66995/Inter_Tratamiento_Datos_Python/blob/main/Ejercicio_Curso.ipynb\" target=\"_parent\"><img src=\"https://colab.research.google.com/assets/colab-badge.svg\" alt=\"Open In Colab\"/></a>"
      ]
    },
    {
      "cell_type": "code",
      "source": [
        "import pandas as pd \n",
        "import numpy as np\n",
        "import urllib.request\n",
        "import re"
      ],
      "metadata": {
        "id": "61cwDGcDOd2Q"
      },
      "execution_count": null,
      "outputs": []
    },
    {
      "cell_type": "code",
      "execution_count": null,
      "metadata": {
        "id": "Yr0ZXLeYMYW0"
      },
      "outputs": [],
      "source": [
        "#Leer archivo scv titanic\n",
        "\n",
        "#Leer origen de datos\n",
        "df = pd.read_csv('https://raw.githubusercontent.com/omarmendoza564/datos/main/datos/titanic.csv')\n",
        "df.info()\n"
      ]
    },
    {
      "cell_type": "code",
      "source": [
        "df"
      ],
      "metadata": {
        "id": "5BKOlb-t43jd"
      },
      "execution_count": null,
      "outputs": []
    },
    {
      "cell_type": "code",
      "source": [
        "df.columns"
      ],
      "metadata": {
        "id": "dPWUxwDtOo8J"
      },
      "execution_count": null,
      "outputs": []
    },
    {
      "cell_type": "markdown",
      "source": [
        "  # *Catalogo*\n",
        "\n",
        "[*pclase*]   – Tipo de Boleto, e.g 1 = 1ra, 2 = 2da, 3 = 3ra\n",
        "[*Numpy*] ddfg\n",
        "survival – Sí la persona sobrevivió o no el accidente (1|0)\n",
        "\n",
        "name – Nombre del pasajero y titulo incluido\n",
        "\n",
        "sex – Género del pasajero: female|male\n",
        "\n",
        "age – Edad en años\n",
        "\n",
        "sibsp – Número de parientes/cónyuges abordo del Titanic\n",
        "\n",
        "parch – Número de padres/hijos abordo del Titanic\n",
        "\n",
        "ticket – Número de Boleto\n",
        "\n",
        "fare – Costo del boleto\n",
        "\n",
        "cabin – Número cabina\n",
        "\n",
        "embarked – Puerto de embarcación (C = Cherburgo; Q = Queenstown; S = \n",
        "Southampton)\n",
        "\n",
        "boat - Número de bote salvavidas, si tomó alguno\n",
        "\n",
        "body - Número de cuerpo (si no sobrevivió y se recuperó el cuerpo)\n",
        "\n",
        "home.dest - Origen y destino del pasajero **texto en negrita** texto en cursiva"
      ],
      "metadata": {
        "id": "NJgqK90EO_tp"
      }
    },
    {
      "cell_type": "code",
      "source": [
        "#Limpíeza de datos\n",
        "#1. Si la edad es null (na) llenar el campo con la media de la edad (usar el método fillna())\n",
        "datos=df[\"age\"]\n",
        "datos\n",
        "df.isnull().sum()\n",
        "df[\"age\"].describe\n",
        "\n",
        "df['age'].fillna((df['age'].mean()), inplace=True)\n",
        "\n",
        "\n",
        "#cambios de valores nulos convertidos en la media\n",
        "#Visualizar los cambios de valores NaN\n",
        "df[\"age\"]\n",
        "print(df[\"age\"].isnull())"
      ],
      "metadata": {
        "id": "TxbxET-aO0uB"
      },
      "execution_count": null,
      "outputs": []
    },
    {
      "cell_type": "code",
      "source": [
        "#2. Si embarqued es na llenar con S\n",
        "df['embarked'].fillna(\"s\")\n",
        "#demostracion que isna se encuentra en flaso por que estan rellenos sus valores\n",
        "df[\"embarked\"].isna()"
      ],
      "metadata": {
        "id": "oQwPjFUaO02Y"
      },
      "execution_count": null,
      "outputs": []
    },
    {
      "cell_type": "code",
      "source": [
        "df[\"embarked\"]"
      ],
      "metadata": {
        "id": "IaCVu-rxdBdX"
      },
      "execution_count": null,
      "outputs": []
    },
    {
      "cell_type": "code",
      "source": [
        "#3. Cambiar los valores alfanumericos de sex a numero usando { 'female': 1, 'male': 0 }\n",
        "cambio=df[\"sex\"].replace([\"female\",\"male\"],[\"1\",\"0\"])\n",
        "cambio"
      ],
      "metadata": {
        "id": "UZo--s1ERE2v"
      },
      "execution_count": null,
      "outputs": []
    },
    {
      "cell_type": "code",
      "source": [
        "df[\"sex\"].describe()"
      ],
      "metadata": {
        "id": "kGvzgTE3O0jE"
      },
      "execution_count": null,
      "outputs": []
    },
    {
      "cell_type": "code",
      "source": [
        "#4. Cambiar los valores alfanumericos de embarked a numero usando { 'S': 0, 'C': 1, 'Q': 2 }\n",
        "df[\"embarked\"].describe\n",
        "cambio2=df[\"embarked\"].replace([\"S\",\"C\",\"Q\"],[\"0\",\"1\",\"2\"])\n",
        "cambio2"
      ],
      "metadata": {
        "id": "YoO9dnhORFuV"
      },
      "execution_count": null,
      "outputs": []
    },
    {
      "cell_type": "code",
      "source": [
        "#6. Eliminar las columnas ticket, cabin y sibsp\n",
        "df.drop(columns=[\"ticket\",\"cabin\",\"sibsp\"])\n",
        "df"
      ],
      "metadata": {
        "id": "0m5Bg0QjRHDm"
      },
      "execution_count": null,
      "outputs": []
    },
    {
      "cell_type": "code",
      "source": [
        "#7. Validar que no existan registros duplicados\n",
        "df_duplicados=df.duplicated()\n",
        "df_duplicados"
      ],
      "metadata": {
        "id": "48yPTbE5RHr-"
      },
      "execution_count": null,
      "outputs": []
    },
    {
      "cell_type": "code",
      "source": [
        "#8. Listar los valores únicos del campo sex\n",
        "Val_Unique_Sex=df[\"sex\"].unique()\n",
        "Val_Unique_Sex"
      ],
      "metadata": {
        "id": "ANJF3FweRIhm"
      },
      "execution_count": null,
      "outputs": []
    },
    {
      "cell_type": "code",
      "source": [
        "#9. Quitar los espacios vacíos de los campos que no sean numéricos\n",
        "df.columns"
      ],
      "metadata": {
        "id": "sRgCXq_WRM_G"
      },
      "execution_count": null,
      "outputs": []
    },
    {
      "cell_type": "code",
      "source": [
        "#10. Cambiar los nombres de las variables a español sin espacios\n",
        "\n",
        "CambioNombres = df.rename(columns={\"pclass\":\"tipo_persona\",\n",
        "                                   \"survived\":\"sobreviviente\",\"name\":\"nombre\",\"sex\":\"sexo\",\"age\":\"edad\",\n",
        "                                   \"parch\":\"Numero_Padres\",\"fare\":\"Costo_Boleto\", \"embarked\":\"embarcacion\",\n",
        "                                   \"boat\":\"Numero_De_Bote\",\"body\":\"Numero_Cuerpo\",\"home.dest\":\"Origen_Pasajero\"})\n",
        "CambioNombres.columns"
      ],
      "metadata": {
        "id": "y51O6u8BRNnG"
      },
      "execution_count": null,
      "outputs": []
    },
    {
      "cell_type": "code",
      "source": [
        "CambioNombres"
      ],
      "metadata": {
        "id": "46lgR3oWFR3L"
      },
      "execution_count": null,
      "outputs": []
    },
    {
      "cell_type": "code",
      "source": [
        "#11. Mostrar los estadísticos básicos de la columna edad\n",
        "\n",
        "med=np.mean(df[\"age\"],axis=0)\n",
        "print(\"media de edad:\", med)\n",
        "maxim = max(df[\"age\"])\n",
        "print(\"la edad maxima es: \",maxim)\n",
        "mini=min(df[\"age\"])\n",
        "print(\"la edad minima es: \",mini)\n"
      ],
      "metadata": {
        "id": "x77jdoZuROMX"
      },
      "execution_count": null,
      "outputs": []
    },
    {
      "cell_type": "code",
      "source": [
        "#12. En un df nuevo dejar solo las columnas nombre, puerto de embarcación y edad de las mujeres\n",
        "df2=df[[\"name\"]],[[\"embarked\"]],[[\"age\",np.where(\"female\") ]].copy()\n",
        "df2"
      ],
      "metadata": {
        "id": "93yy8wF0RSFG"
      },
      "execution_count": null,
      "outputs": []
    },
    {
      "cell_type": "code",
      "source": [
        "#13. Guardar los datos limpios en un archivos json orientado a registros llamado iniciales_titanic_clean.json (sus iniciales)\n",
        "\n",
        "\n",
        "#guardar un df en archivode df a json \n",
        "df.to_json(\"datos/df/LGOT_titanic_clean.json\")\n",
        "%ls datos/df/\n"
      ],
      "metadata": {
        "id": "BFpRX_cJRSnW"
      },
      "execution_count": null,
      "outputs": []
    },
    {
      "cell_type": "code",
      "source": [
        "%cat datos/df/LGOT_titanic_clean.json"
      ],
      "metadata": {
        "id": "k8ePbXaGqusJ"
      },
      "execution_count": null,
      "outputs": []
    },
    {
      "cell_type": "code",
      "source": [
        "#14. Guardar los datos limpios en un archivo de excel con dos hojas una con los sobrevientes y otra con los fallecidos llamado iniciales_titanic_clean.xlsx (sus iniciales)\n",
        "df3 = df.copy()\n",
        "with pd.ExcelWriter('datos/df/LGOT_titanic_clean.xlsx') as w:\n",
        "  df.to_excel(w, sheet_name=\"LGOT_titanic_clean_Fallecidos\", index=False)\n",
        "  df2.to_excel(w,sheet_name=\"LGOT_titanic_clean_Sobrevivientes\")\n",
        "%ls datos/df/"
      ],
      "metadata": {
        "id": "E2SVCjziRrPH"
      },
      "execution_count": null,
      "outputs": []
    }
  ]
}