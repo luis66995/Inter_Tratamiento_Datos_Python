{
  "nbformat": 4,
  "nbformat_minor": 0,
  "metadata": {
    "colab": {
      "name": "Pandas.ipynb",
      "private_outputs": true,
      "provenance": [],
      "authorship_tag": "ABX9TyMwvO9N3DpnokiYy51jfwt4",
      "include_colab_link": true
    },
    "kernelspec": {
      "name": "python3",
      "display_name": "Python 3"
    },
    "language_info": {
      "name": "python"
    }
  },
  "cells": [
    {
      "cell_type": "markdown",
      "metadata": {
        "id": "view-in-github",
        "colab_type": "text"
      },
      "source": [
        "<a href=\"https://colab.research.google.com/github/luis66995/Inter_Tratamiento_Datos_Python/blob/main/Pandas.ipynb\" target=\"_parent\"><img src=\"https://colab.research.google.com/assets/colab-badge.svg\" alt=\"Open In Colab\"/></a>"
      ]
    },
    {
      "cell_type": "code",
      "execution_count": null,
      "metadata": {
        "id": "By0buEVcC02j"
      },
      "outputs": [],
      "source": [
        "import pandas as pd"
      ]
    },
    {
      "cell_type": "code",
      "source": [
        "pd.DataFrame(data=[(0, 1, 2), (1, 2, 3), (2, 3, 4), (3, 4, 5)])\n"
      ],
      "metadata": {
        "id": "TOO8WBkGEhEJ"
      },
      "execution_count": null,
      "outputs": []
    },
    {
      "cell_type": "code",
      "source": [
        "diccionario = {'c101':[10, 5, 33 ,45, 25, 22], \n",
        "                'c111':[0, 15, 21 , 30, 31, 11], \n",
        "                'c121':[15, 5, 1 ,10, 42, 21], \n",
        "                'c301':[20, 35, 3 ,15, 0, 0], }\n",
        "diccionario"
      ],
      "metadata": {
        "id": "Ksf14AA4FR8P"
      },
      "execution_count": null,
      "outputs": []
    },
    {
      "cell_type": "code",
      "source": [
        "df=pd.DataFrame(data=diccionario)\n",
        "df"
      ],
      "metadata": {
        "id": "mGNfoCyKFXPE"
      },
      "execution_count": null,
      "outputs": []
    },
    {
      "cell_type": "code",
      "source": [
        "import numpy as np\n"
      ],
      "metadata": {
        "id": "AcS__r0PGBcQ"
      },
      "execution_count": null,
      "outputs": []
    },
    {
      "cell_type": "code",
      "source": [
        "m = np.arange(9).reshape(3, 3)\n",
        "m"
      ],
      "metadata": {
        "id": "QT_jLIlzGF6Y"
      },
      "execution_count": null,
      "outputs": []
    },
    {
      "cell_type": "code",
      "source": [
        "pd.DataFrame(m)"
      ],
      "metadata": {
        "id": "vP6nYH73GfzY"
      },
      "execution_count": null,
      "outputs": []
    },
    {
      "cell_type": "code",
      "source": [
        "meses= ('enero', 'febrero', 'marzo', 'abril', 'mayo', 'junio')\n",
        "meses"
      ],
      "metadata": {
        "id": "jN8g63ZBGy0O"
      },
      "execution_count": null,
      "outputs": []
    },
    {
      "cell_type": "code",
      "source": [
        "pd.DataFrame(data=diccionario,index=meses)"
      ],
      "metadata": {
        "id": "YSA0YeiHHVGP"
      },
      "execution_count": null,
      "outputs": []
    },
    {
      "cell_type": "code",
      "source": [
        "cursos=pd.DataFrame(data=diccionario,index=meses)\n",
        "cursos"
      ],
      "metadata": {
        "id": "fyQOiru2HWWg"
      },
      "execution_count": null,
      "outputs": []
    },
    {
      "cell_type": "code",
      "source": [
        "cursos[\"c111\"]"
      ],
      "metadata": {
        "id": "sCJhqwvmHmlv"
      },
      "execution_count": null,
      "outputs": []
    },
    {
      "cell_type": "code",
      "source": [
        "cursos.describe()"
      ],
      "metadata": {
        "id": "3lD6AEldHuP_"
      },
      "execution_count": null,
      "outputs": []
    },
    {
      "cell_type": "markdown",
      "source": [
        "cursos[\"c301\"]*4"
      ],
      "metadata": {
        "id": "WF8fz6WmH51g"
      }
    },
    {
      "cell_type": "code",
      "source": [
        "cursos.max()"
      ],
      "metadata": {
        "id": "BAxKjNKNIS2v"
      },
      "execution_count": null,
      "outputs": []
    },
    {
      "cell_type": "code",
      "source": [
        "cursos[\"c111\"].describe()"
      ],
      "metadata": {
        "id": "uB5s3HAxIVyQ"
      },
      "execution_count": null,
      "outputs": []
    },
    {
      "cell_type": "code",
      "source": [
        "cursos[\"c301\"]*100"
      ],
      "metadata": {
        "id": "DiBaNQ8eIwF7"
      },
      "execution_count": null,
      "outputs": []
    },
    {
      "cell_type": "code",
      "source": [
        "#cambiar los indices del arreglo del 1 al 3\n",
        "cursos[:3]=np.array([5,5,5,5])\n",
        "cursos"
      ],
      "metadata": {
        "id": "VD8F7XbOI3Th"
      },
      "execution_count": null,
      "outputs": []
    },
    {
      "cell_type": "code",
      "source": [
        "pd.DataFrame(data=diccionario,index=meses)\n"
      ],
      "metadata": {
        "id": "vl6b2DSBJYX8"
      },
      "execution_count": null,
      "outputs": []
    },
    {
      "cell_type": "code",
      "source": [
        "cursos[\"c111\"][2]"
      ],
      "metadata": {
        "id": "BwYi7FHfJfdD"
      },
      "execution_count": null,
      "outputs": []
    },
    {
      "cell_type": "code",
      "source": [
        "cursos[\"c111\"][\"mayo\"]              "
      ],
      "metadata": {
        "id": "ygLbNEBfJh1h"
      },
      "execution_count": null,
      "outputs": []
    },
    {
      "cell_type": "code",
      "source": [
        "cursos[[\"c101\",\"c121\"]]\n",
        "cursos"
      ],
      "metadata": {
        "id": "_-27R23rJiRx"
      },
      "execution_count": null,
      "outputs": []
    }
  ]
}