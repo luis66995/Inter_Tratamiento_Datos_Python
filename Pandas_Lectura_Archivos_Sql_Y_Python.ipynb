{
  "nbformat": 4,
  "nbformat_minor": 0,
  "metadata": {
    "colab": {
      "name": "Pandas_Lectura_Archivos_Sql_Y_Python.ipynb",
      "private_outputs": true,
      "provenance": [],
      "authorship_tag": "ABX9TyMFmJFRnVDy2x3FPiBgiLQa",
      "include_colab_link": true
    },
    "kernelspec": {
      "name": "python3",
      "display_name": "Python 3"
    },
    "language_info": {
      "name": "python"
    }
  },
  "cells": [
    {
      "cell_type": "markdown",
      "metadata": {
        "id": "view-in-github",
        "colab_type": "text"
      },
      "source": [
        "<a href=\"https://colab.research.google.com/github/luis66995/Inter_Tratamiento_Datos_Python/blob/main/Pandas_Lectura_Archivos_Sql_Y_Python.ipynb\" target=\"_parent\"><img src=\"https://colab.research.google.com/assets/colab-badge.svg\" alt=\"Open In Colab\"/></a>"
      ]
    },
    {
      "cell_type": "markdown",
      "source": [
        "# Lectura de pandas"
      ],
      "metadata": {
        "id": "YMeBg284UZAF"
      }
    },
    {
      "cell_type": "code",
      "execution_count": null,
      "metadata": {
        "id": "Ekdi7zbETnUo"
      },
      "outputs": [],
      "source": [
        "import pandas as pd \n",
        "import numpy as np"
      ]
    },
    {
      "cell_type": "code",
      "source": [
        "#lEER UN csv\n",
        "df_clientes=pd.read_csv(\"datos/clientes.csv\")\n",
        "df_clientes.info()"
      ],
      "metadata": {
        "id": "E4nJfzv_VUNR"
      },
      "execution_count": null,
      "outputs": []
    },
    {
      "cell_type": "code",
      "source": [
        "df_clientes"
      ],
      "metadata": {
        "id": "FfKfaEfbV7G4"
      },
      "execution_count": null,
      "outputs": []
    },
    {
      "cell_type": "code",
      "source": [
        "df_facturas=pd.read_csv(\"datos/facturas.csv\", sep=\"|\")\n",
        "df_facturas.info()"
      ],
      "metadata": {
        "id": "kMwNommuWAbX"
      },
      "execution_count": null,
      "outputs": []
    },
    {
      "cell_type": "code",
      "source": [
        "df_facturas"
      ],
      "metadata": {
        "id": "Slus2thYW9Xh"
      },
      "execution_count": null,
      "outputs": []
    },
    {
      "cell_type": "code",
      "source": [
        "#Leer un CSV desde un url \n",
        "df_jugadores=pd.read_csv( \"https://raw.githubusercontent.com/omarmendoza564/datos/main/datos/jugadores.csv\")\n",
        "df_jugadores.info"
      ],
      "metadata": {
        "id": "NrPJmOiRG0JC"
      },
      "execution_count": null,
      "outputs": []
    },
    {
      "cell_type": "code",
      "source": [
        "df_jugadores"
      ],
      "metadata": {
        "id": "4xEmn_MxKOgY"
      },
      "execution_count": null,
      "outputs": []
    },
    {
      "cell_type": "code",
      "source": [
        "#leer csv desde url sin header y cambiando nombre de columnas\n",
        "columns = ['Nombre','Equipo','Posicion','Altura','Peso','Edad']\n",
        "\n",
        "df_jugadores_esp= pd.read_csv(\n",
        "    \"https://raw.githubusercontent.com/omarmendoza564/datos/main/datos/jugadores.csv\",\n",
        "     header=None,skiprows=1,names=columns)\n",
        "df_jugadores_esp.info()"
      ],
      "metadata": {
        "id": "53STbT9LKeRn"
      },
      "execution_count": null,
      "outputs": []
    },
    {
      "cell_type": "code",
      "source": [
        "df_jugadores_esp"
      ],
      "metadata": {
        "id": "PZKOK8M0Mnrx"
      },
      "execution_count": null,
      "outputs": []
    },
    {
      "cell_type": "code",
      "source": [
        "#leer Json\n",
        "df_alumnos=pd.read_json(\"datos/alumnos_calif_jsonArray.json\")\n",
        "print(df_alumnos.info())\n",
        "print(df_alumnos.columns)"
      ],
      "metadata": {
        "id": "YRNqEhBUM4mw"
      },
      "execution_count": null,
      "outputs": []
    },
    {
      "cell_type": "code",
      "source": [
        "df_alumnos"
      ],
      "metadata": {
        "id": "-eGbNPatLDBq"
      },
      "execution_count": null,
      "outputs": []
    },
    {
      "cell_type": "code",
      "source": [
        "df_alumnos[\"calificacion\"].describe()"
      ],
      "metadata": {
        "id": "8LpFw7ECNwmS"
      },
      "execution_count": null,
      "outputs": []
    },
    {
      "cell_type": "code",
      "source": [
        "#estadisticos basicos de una columna \n",
        " #df_alumnos.describe()\n",
        " "
      ],
      "metadata": {
        "id": "IqzACb0-REIo"
      },
      "execution_count": null,
      "outputs": []
    },
    {
      "cell_type": "code",
      "source": [
        " #df_alumnos.isnull().sum()"
      ],
      "metadata": {
        "id": "bOXRnirbRPtP"
      },
      "execution_count": null,
      "outputs": []
    },
    {
      "cell_type": "code",
      "source": [
        "#crtl + enter leer la ruta por automatico y puede autocompletar\n",
        "df_carrera=pd.read_excel(\n",
        "    \"datos/BDCarrera.xlsx\",\n",
        "    sheet_name=\"BdCarrera2022\",\n",
        "    header=None,\n",
        "names=['MATRICULA', 'SEDE', 'NOMBRE', 'EDAD', 'SEXO', 'NACIONALIDAD', 'ESTADO_CIVIL', 'MODALIDAD', 'PROM_PSU', 'PROM_NEM', 'SITUACION_ECONOMICA', 'ESTADO', 'CALIFICACION', 'CURSO']   )\n",
        "df_carrera.info()"
      ],
      "metadata": {
        "id": "jyzjyK3qRgQn"
      },
      "execution_count": null,
      "outputs": []
    },
    {
      "cell_type": "code",
      "source": [
        "#instalar el driver de mysql \n",
        "#Lectura de BD relacional Mysql \n",
        "!pip install mysql-connector-python sqlalchemy\n"
      ],
      "metadata": {
        "id": "DHxcD3_uUiVb"
      },
      "execution_count": null,
      "outputs": []
    },
    {
      "cell_type": "code",
      "source": [
        "from sqlalchemy import create_engine\n",
        "us = 'fesalu'\n",
        "passwd = 'bdfes123'\n",
        "url = 'bd.arcelia.net'\n",
        "puerto = '3306'\n",
        "bd = 'bdcolegiosource'\n",
        "auth = 'mysql_native_password'\n",
        "#ARMAMOS LA CADENA DE CONEXION ALA BDD\n",
        "\n",
        "str_conn = 'mysql+mysqlconnector://{0}:{1}@{2}:{3}/{4}?auth_plugin={5}'\n",
        "str_conn = str_conn.format(us, passwd, url, puerto, bd, auth)\n",
        "print(str_conn)\n",
        "sql = '''SELECT * FROM Alumnos WHERE DATE(fnac) >=  %s'''\n",
        "conn = create_engine(str_conn)\n"
      ],
      "metadata": {
        "id": "UzXmi2R9Ul6x"
      },
      "execution_count": null,
      "outputs": []
    },
    {
      "cell_type": "code",
      "source": [
        "#f_mysql.columns = ['no_cuenta', 'nombre', 'ap_paterno', 'fecha_nacimiento', 'estatura']"
      ],
      "metadata": {
        "id": "IQxTanmRXDLU"
      },
      "execution_count": null,
      "outputs": []
    },
    {
      "cell_type": "code",
      "source": [
        "#conexion a la bdd \n",
        "\n",
        "conn=create_engine(str_conn)\n",
        "#consulta que recibira un parametro a filtro\n",
        "sql = '''SELECT * FROM Alumnos WHERE DATE(fnac) >=  %s'''\n",
        "\n",
        "df_mysql=pd.read_sql_query(sql=sql, con=conn,  params=['2000-01-01'])\n",
        "df_mysql.info()\n",
        "df_mysql.columns "
      ],
      "metadata": {
        "id": "Zjrd-S_FZ6ir"
      },
      "execution_count": null,
      "outputs": []
    },
    {
      "cell_type": "code",
      "source": [
        "df_mysql"
      ],
      "metadata": {
        "id": "EZrcQpgzax5y"
      },
      "execution_count": null,
      "outputs": []
    },
    {
      "cell_type": "code",
      "source": [
        "#leer datos de una tabla en bdd relacional\n",
        "df_mysql2=pd.read_sql_table(table_name=\"Clientes\", con=conn)\n",
        "df_mysql2.info()\n",
        "df_mysql2.columns"
      ],
      "metadata": {
        "id": "1-gWhRXucfLu"
      },
      "execution_count": null,
      "outputs": []
    },
    {
      "cell_type": "code",
      "source": [
        "df_mysql2"
      ],
      "metadata": {
        "id": "PObtIAFif5sD"
      },
      "execution_count": null,
      "outputs": []
    },
    {
      "cell_type": "code",
      "source": [
        "df_mysql.columns"
      ],
      "metadata": {
        "id": "eq5BGiTZgCQP"
      },
      "execution_count": null,
      "outputs": []
    },
    {
      "cell_type": "code",
      "source": [
        "#cambiar nombres de la columna de un DF existente \n",
        "df_mysql.columns=[\"no_cuenta\",\"nombre\",\"ap_paterno\",\"fecha_nacimiento\",\"estatura\"]\n",
        "df_mysql"
      ],
      "metadata": {
        "id": "ATQAyd-xgT1a"
      },
      "execution_count": null,
      "outputs": []
    },
    {
      "cell_type": "code",
      "source": [
        "#cambiar los nombres de algunas columnas de un df existente\n",
        "df_mysql.rename(columns={\"ap_paterno\":\"apellido_paterno\", \"nombre\":\"nombres\"},\n",
        "                inplace=True)\n",
        "df_mysql"
      ],
      "metadata": {
        "id": "px2k-z7NhLCN"
      },
      "execution_count": null,
      "outputs": []
    },
    {
      "cell_type": "code",
      "source": [
        "#guardar un df en archivo csv \n",
        "df_mysql.to_csv(\"datos/df/alumnos.csv\",index=False)\n",
        "%ls datos/df/"
      ],
      "metadata": {
        "id": "nGCYYxQjiitz"
      },
      "execution_count": null,
      "outputs": []
    },
    {
      "cell_type": "code",
      "source": [
        "%cat datos/df/alumnos.csv"
      ],
      "metadata": {
        "id": "0paKk1K9nc5T"
      },
      "execution_count": null,
      "outputs": []
    },
    {
      "cell_type": "code",
      "source": [
        "#guardar un df en archivo csv separado por pipes\n",
        "df_mysql.to_csv(\"datos/df/alumnos_pipes.csv\",index=False,sep=\"|\")\n",
        "%ls datos/df/"
      ],
      "metadata": {
        "id": "V8Be5p_poD6H"
      },
      "execution_count": null,
      "outputs": []
    },
    {
      "cell_type": "code",
      "source": [
        "%cat datos/df/alumnos_pipes.csv"
      ],
      "metadata": {
        "id": "Yg0wEebeoWuM"
      },
      "execution_count": null,
      "outputs": []
    },
    {
      "cell_type": "code",
      "source": [
        "#Escribir arcivos en jsonn orientados a campos\n",
        "\n",
        "df_mysql.to_json(\"datos/df/alumnos.json\")\n",
        "\n",
        "%ls datos/df/"
      ],
      "metadata": {
        "id": "3hmG44mxo5JQ"
      },
      "execution_count": null,
      "outputs": []
    },
    {
      "cell_type": "code",
      "source": [
        "%cat datos/df/alumnos.json"
      ],
      "metadata": {
        "id": "0ZG7zVaVpYBg"
      },
      "execution_count": null,
      "outputs": []
    },
    {
      "cell_type": "code",
      "source": [
        "#Escribir arcivos en jsonn orientados a registros\n",
        "\n",
        "df_mysql.to_json(\"datos/df/alumnos_registros.json\",orient=\"records\")\n",
        "\n",
        "%ls datos/df/"
      ],
      "metadata": {
        "id": "cvV5rlrgwxyX"
      },
      "execution_count": null,
      "outputs": []
    },
    {
      "cell_type": "code",
      "source": [
        "%cat datos/df/alumnos_registros.json"
      ],
      "metadata": {
        "id": "p4XTH9DxxaNR"
      },
      "execution_count": null,
      "outputs": []
    },
    {
      "cell_type": "code",
      "source": [
        "#Escribir arcivos en jsonn orientados a tablas\n",
        "\n",
        "df_mysql.to_json(\"datos/df/alumnos_tabla.json\",index=False ,orient=\"table\")\n",
        "\n",
        "%ls datos/df/"
      ],
      "metadata": {
        "id": "SkkrUJMZxjf2"
      },
      "execution_count": null,
      "outputs": []
    },
    {
      "cell_type": "code",
      "source": [
        "%cat datos/df/alumnos_tabla.json"
      ],
      "metadata": {
        "id": "1WCtoLxixwo6"
      },
      "execution_count": null,
      "outputs": []
    },
    {
      "cell_type": "code",
      "source": [
        "#Escribir arcivos en jsonn orientados a valores\n",
        "df_mysql.to_json(\"datos/df/alumnos_valores.json\", orient=\"values\")\n",
        "\n",
        "%ls datos/df/"
      ],
      "metadata": {
        "id": "6fNanqjHyGgx"
      },
      "execution_count": null,
      "outputs": []
    },
    {
      "cell_type": "code",
      "source": [
        "%cat datos/df/alumnos_valores.json"
      ],
      "metadata": {
        "id": "wJiY2XOCysOC"
      },
      "execution_count": null,
      "outputs": []
    },
    {
      "cell_type": "code",
      "source": [
        "#Escribir df a archivos excel\n",
        "\n",
        "df_mysql.to_excel(\n",
        "    \n",
        "    \"datos/df/alumnos.xlsx\", \n",
        "    sheet_name=\"AlumnosArcelia\",\n",
        "    index=False\n",
        ")\n",
        "\n",
        "%ls datos/df/"
      ],
      "metadata": {
        "id": "D85SPfBmypoA"
      },
      "execution_count": null,
      "outputs": []
    },
    {
      "cell_type": "code",
      "source": [
        "#Escribir DF archivos de EXCEL EN VARIAS HOJAS\n",
        "df2 = df_mysql.copy()\n",
        "with pd.ExcelWriter('datos/df/alumnos_hojas.xlsx') as w:\n",
        "  df_mysql.to_excel(w, sheet_name=\"AlumnosArcelia\", index=False)\n",
        "  df_alumnos.to_excel(w, sheet_name=\"AlumnosFile\", index=False)\n",
        "\n",
        "%ls datos/df/"
      ],
      "metadata": {
        "id": "SoHytM74zgre"
      },
      "execution_count": null,
      "outputs": []
    },
    {
      "cell_type": "code",
      "source": [
        "from operator import index\n",
        "#Escribir en un archivo de excel existente\n",
        "#with pd.ExcelWriter('datos/df/alumnos_hojas.xlsx',\n",
        " #                   mode='a', engine='openpyxl') as w:\n",
        "  #    df_clientes.to_excel(w, sheet_name='Clientes', index=False)\n",
        "   #   df_jugadores_esp.to_excel(w, sheet_name='Jugadores', index=False)\n",
        "#%ls datos/df/"
      ],
      "metadata": {
        "id": "OPBoQ3zc4ecL"
      },
      "execution_count": null,
      "outputs": []
    },
    {
      "cell_type": "code",
      "source": [
        "df_carrera.info()"
      ],
      "metadata": {
        "id": "Tz45nGCV4nZr"
      },
      "execution_count": null,
      "outputs": []
    },
    {
      "cell_type": "code",
      "source": [
        "import os\n",
        "from google.colab import files\n",
        "for i in os.listdir('/content/datos/df/') :  \n",
        " #print(i)\n",
        " files.download('/content/datos/df/'+i)"
      ],
      "metadata": {
        "id": "RpMkWjOCAePV"
      },
      "execution_count": null,
      "outputs": []
    }
  ]
}