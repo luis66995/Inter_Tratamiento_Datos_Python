{
  "nbformat": 4,
  "nbformat_minor": 0,
  "metadata": {
    "colab": {
      "name": "PandasTiposDeoPERACIONES.ipynb",
      "private_outputs": true,
      "provenance": [],
      "authorship_tag": "ABX9TyMJ5sBfCS+a9eqrbFf81nAh",
      "include_colab_link": true
    },
    "kernelspec": {
      "name": "python3",
      "display_name": "Python 3"
    },
    "language_info": {
      "name": "python"
    }
  },
  "cells": [
    {
      "cell_type": "markdown",
      "metadata": {
        "id": "view-in-github",
        "colab_type": "text"
      },
      "source": [
        "<a href=\"https://colab.research.google.com/github/luis66995/Inter_Tratamiento_Datos_Python/blob/main/PandasTiposDeoPERACIONES.ipynb\" target=\"_parent\"><img src=\"https://colab.research.google.com/assets/colab-badge.svg\" alt=\"Open In Colab\"/></a>"
      ]
    },
    {
      "cell_type": "code",
      "execution_count": null,
      "metadata": {
        "id": "GhYj1UvY8bes"
      },
      "outputs": [],
      "source": [
        "import pandas as pd\n",
        "import numpy as np"
      ]
    },
    {
      "cell_type": "markdown",
      "source": [
        "* ```object``` el cual representa a una cadena de caracteres.\n",
        "* ```int64``` es el tipo para números enteros. \n",
        "* ```float64``` es el tipo para números de punto flotante.\n",
        "* ```bool``` es el tipo para valores booleanos.\n",
        "* ```datetime64``` es el tipo usado para gestionar fechas y horas.\n",
        "* ```timedelta``` es el tipo de diferencias de tiempo. \n",
        "* ```category``` es un tipo de dato que contiene una colección finita de posibles valores\n"
      ],
      "metadata": {
        "id": "P_khntfC8yip"
      }
    },
    {
      "cell_type": "code",
      "source": [
        "import datetime as dt\n",
        "datos = pd.DataFrame({'nombres':('Carlos Ayala',\n",
        "                                 'Martha Sánchez'\n",
        "                                 , 'Jimena Ríos',\n",
        "                                 'Raul Quiroz'),\n",
        "            'fechas':(dt.datetime(1995,12,21), \n",
        "                      dt.datetime(1989,1,13), \n",
        "                      dt.datetime(1992,9,14), \n",
        "                      dt.datetime(1993,7,8)),\n",
        "            'saldo': (3600, \n",
        "                      7452, \n",
        "                      np.NaN, \n",
        "                      12143.5),\n",
        "            'al corriente':(True, \n",
        "                            True, \n",
        "                            False, \n",
        "                            True)})\n",
        "\n",
        "datos\n"
      ],
      "metadata": {
        "id": "5lR-m7_k8vvL"
      },
      "execution_count": null,
      "outputs": []
    },
    {
      "cell_type": "code",
      "source": [
        "datos.dtypes"
      ],
      "metadata": {
        "id": "writnSPE-KFI"
      },
      "execution_count": null,
      "outputs": []
    },
    {
      "cell_type": "code",
      "source": [
        "datos2=pd.DataFrame({'nombres':('Carlos Ayala',\n",
        "                                 'Martha Sánchez'\n",
        "                                 , 'Jimena Ríos',\n",
        "                                 'Raul Quiroz'),\n",
        "            'fechas':(dt.datetime(1995,12,21), \n",
        "                      dt.datetime(1989,1,13), \n",
        "                      dt.datetime(1992,9,14), \n",
        "                      dt.datetime(1993,7,8)),\n",
        "            'saldo': (3600, \n",
        "                      7452, \n",
        "                      np.NaN, \n",
        "                      12143.5),\n",
        "            'al corriente':(True, \n",
        "                            True, \n",
        "                            False, \n",
        "                            True)})\n",
        "\n",
        "datos"
      ],
      "metadata": {
        "id": "fyogSMvx-X0e"
      },
      "execution_count": null,
      "outputs": []
    },
    {
      "cell_type": "code",
      "source": [
        "datos2.dtypes"
      ],
      "metadata": {
        "id": "cCFvkvHf-ofl"
      },
      "execution_count": null,
      "outputs": []
    },
    {
      "cell_type": "code",
      "source": [
        "#convertir un objeto de pandas a un tipo de dato especifico\n",
        "datos3= datos2.astype(str)\n",
        "datos3.dtypes"
      ],
      "metadata": {
        "id": "KFMD2yti-rDM"
      },
      "execution_count": null,
      "outputs": []
    },
    {
      "cell_type": "code",
      "source": [
        "datos3"
      ],
      "metadata": {
        "id": "qBaG8XVn_PlK"
      },
      "execution_count": null,
      "outputs": []
    },
    {
      "cell_type": "code",
      "source": [
        "datos3[\"saldo\"].astype(\"float64\")"
      ],
      "metadata": {
        "id": "w7CtJQ3fABBx"
      },
      "execution_count": null,
      "outputs": []
    },
    {
      "cell_type": "code",
      "source": [
        "datos3.dtypes"
      ],
      "metadata": {
        "id": "5QT1avy9Ai4b"
      },
      "execution_count": null,
      "outputs": []
    },
    {
      "cell_type": "code",
      "source": [
        "#pd.to_datetime()\n",
        "fechas = pd.DataFrame({'year': [1997, 1982, 1985],\n",
        "                       'month': [1, 12, 3],\n",
        "                       'day': [14, 5, 21],\n",
        "                       'hour':[17, 0, 4],\n",
        "                       'minutes':[45, 39, 28],\n",
        "                      'seconds':[11.1803, 23.74583, 3.8798]})\n",
        "\n",
        "fechas"
      ],
      "metadata": {
        "id": "-NAoFM5jAKwd"
      },
      "execution_count": null,
      "outputs": []
    },
    {
      "cell_type": "code",
      "source": [
        "datos = pd.DataFrame(np.arange(8532639111803, 8532639111903, 5).reshape(10,2))\n",
        "datos\n"
      ],
      "metadata": {
        "id": "Kaehj7UfEYzv"
      },
      "execution_count": null,
      "outputs": []
    },
    {
      "cell_type": "markdown",
      "source": [
        "#operaciones basicas con dataframes\n",
        "\n",
        "##brockcasting"
      ],
      "metadata": {
        "id": "JiwkSHrXEiqT"
      }
    },
    {
      "cell_type": "code",
      "source": [
        "from dataclasses import dataclass\n",
        "datos = pd.DataFrame(np.arange(20).reshape(5,4), \n",
        "          columns=('primero', 'segundo', 'tercero', 'cuarto'))\n",
        "datos"
      ],
      "metadata": {
        "id": "JkZT3YK7EfoH"
      },
      "execution_count": null,
      "outputs": []
    },
    {
      "cell_type": "code",
      "source": [
        "datos[2:]\n"
      ],
      "metadata": {
        "id": "vFF1h5kxFLAL"
      },
      "execution_count": null,
      "outputs": []
    },
    {
      "cell_type": "code",
      "source": [
        "datos[2:]*5"
      ],
      "metadata": {
        "id": "kLpygRSbFS_E"
      },
      "execution_count": null,
      "outputs": []
    },
    {
      "cell_type": "code",
      "source": [
        "datos[2:]= datos[2:]*5\n",
        "datos"
      ],
      "metadata": {
        "id": "IzQcpE0FFe_6"
      },
      "execution_count": null,
      "outputs": []
    },
    {
      "cell_type": "code",
      "source": [
        "indice = ['gerente', 'supervisor', 'vendedor', 'cajero']\n",
        "datos = pd.DataFrame({'nombres':('Carlos Ayala',\n",
        "                                 'Martha Sánchez'\n",
        "                                 , 'Jimena Ríos',\n",
        "                                 'Raul Quiroz'),\n",
        "            'fechas':(dt.datetime(1995,12,21), \n",
        "                      dt.datetime(1989,1,13), \n",
        "                      dt.datetime(1992,9,14), \n",
        "                      dt.datetime(1993,7,8)),\n",
        "            'saldo': (3600, \n",
        "                      7452, \n",
        "                      np.NaN, \n",
        "                      12143.5),\n",
        "            'al corriente':(True, \n",
        "                            True, \n",
        "                            False, \n",
        "                            True)},\n",
        "            index=indice)\n",
        "\n",
        "datos"
      ],
      "metadata": {
        "id": "ov8VuXA1F6F1"
      },
      "execution_count": null,
      "outputs": []
    },
    {
      "cell_type": "code",
      "source": [
        "datos.shape"
      ],
      "metadata": {
        "id": "Th9URiqDG8Bw"
      },
      "execution_count": null,
      "outputs": []
    },
    {
      "cell_type": "code",
      "source": [
        "datos.index"
      ],
      "metadata": {
        "id": "dNVMueYaG_eq"
      },
      "execution_count": null,
      "outputs": []
    },
    {
      "cell_type": "code",
      "source": [
        "print(type(datos.index))"
      ],
      "metadata": {
        "id": "eBdtx_vbHCvC"
      },
      "execution_count": null,
      "outputs": []
    },
    {
      "cell_type": "code",
      "source": [
        "datos.columns"
      ],
      "metadata": {
        "id": "iuzgyBZuHKLM"
      },
      "execution_count": null,
      "outputs": []
    },
    {
      "cell_type": "code",
      "source": [
        "type(datos.columns)"
      ],
      "metadata": {
        "id": "4SB48uynHNDp"
      },
      "execution_count": null,
      "outputs": []
    },
    {
      "cell_type": "code",
      "source": [
        "#reset_index()\n",
        "# regresará un dataframe el cual sustituirá a los índices del dataframe original con valores numéricos y creará una nueva columna con el identificador index conteniendo a los identificadores sustituidos.\n",
        "datos.reset_index()"
      ],
      "metadata": {
        "id": "23d848sTHTDj"
      },
      "execution_count": null,
      "outputs": []
    },
    {
      "cell_type": "code",
      "source": [
        "datos"
      ],
      "metadata": {
        "id": "tGZLT6mIHp2e"
      },
      "execution_count": null,
      "outputs": []
    },
    {
      "cell_type": "code",
      "source": [
        "#cambiar el nombre de la columna\n",
        "datos.set_index(\"nombres\")"
      ],
      "metadata": {
        "id": "OyebiYFiH0RL"
      },
      "execution_count": null,
      "outputs": []
    },
    {
      "cell_type": "code",
      "source": [
        "datos"
      ],
      "metadata": {
        "id": "na9YPNj8JECv"
      },
      "execution_count": null,
      "outputs": []
    },
    {
      "cell_type": "code",
      "source": [
        "# Si se repite el indice en la tupla se repite el renglon en el resultado\n",
        "# Si existe un indice valido y un indice invalido el renglon de este ultimo se llena con NaN\n",
        "# Si no existe un indice valido en la tupla genera un error\n",
        "\n",
        "datos.reindex((\"gerente\", \"supervisor\", \"supervisor\",\"gerente\",\"director\"))\n"
      ],
      "metadata": {
        "id": "iQNSCqKWJTA7"
      },
      "execution_count": null,
      "outputs": []
    },
    {
      "cell_type": "code",
      "source": [
        "datos.info()"
      ],
      "metadata": {
        "id": "BrzP9-X2LHO7"
      },
      "execution_count": null,
      "outputs": []
    },
    {
      "cell_type": "markdown",
      "source": [
        "### El método ```iloc[ ]```.\n",
        "\n",
        "El método ```iloc[ ]``` permite identificar a uno o más elemento dentro de un renglón de un dataframe utilizando números enteros para referenciar tanto al índice como a las columnas.\n",
        "```\n",
        "<df>.iloc[<índice>,[<col 1>, <col 2>, ... <col n>]]\n",
        "```\n"
      ],
      "metadata": {
        "id": "2CNFw0RELnbP"
      }
    },
    {
      "cell_type": "code",
      "source": [
        "datos = pd.DataFrame(np.arange(20).reshape(5, 4), \n",
        "                     columns=('primero', 'segundo', 'tercero', 'cuarto'))\n",
        "\n",
        "datos"
      ],
      "metadata": {
        "id": "mH04fu3pLv7s"
      },
      "execution_count": null,
      "outputs": []
    },
    {
      "cell_type": "code",
      "source": [
        "# no funciona datos.iloc[2,[2, 1, 3]]\n"
      ],
      "metadata": {
        "id": "I1fBgpFkNSkd"
      },
      "execution_count": null,
      "outputs": []
    },
    {
      "cell_type": "markdown",
      "source": [
        "### El método ```loc[ ]```.\n",
        "permite identificar a uno o más elemento dentro de un renglón de un dataframe utilizando los identificadores para referenciar tanto al índice como a las columnas.\n",
        "\n",
        "```\n",
        "<df>.loc[<id_índice>,[<id_col 1>, <id_col 2>, ... <id_col n>]\n",
        "```\n"
      ],
      "metadata": {
        "id": "m6RfGrouNdZj"
      }
    },
    {
      "cell_type": "code",
      "source": [
        "ndice = ['gerente', 'supervisor', 'vendedor', 'cajero']\n",
        "datos = pd.DataFrame({'nombres':('Carlos Ayala', \n",
        "                                    'Martha Sánchez', \n",
        "                                    'Jimena Ríos', \n",
        "                                    'Raul Quiroz'),\n",
        "            'fechas':(dt.datetime(1995,12,21), \n",
        "                      dt.datetime(1989,1,13), \n",
        "                      dt.datetime(1992,9,14), \n",
        "                      dt.datetime(1993,7,8)),\n",
        "            'saldo': (3600, \n",
        "                      7452, \n",
        "                      np.NaN, \n",
        "                      12143.5),\n",
        "            'al corriente':(True, \n",
        "                            True, \n",
        "                            False, \n",
        "                            True)}, \n",
        "            index=indice)\n",
        "\n",
        "datos\n"
      ],
      "metadata": {
        "id": "3dY9Ehx6NmwM"
      },
      "execution_count": null,
      "outputs": []
    },
    {
      "cell_type": "code",
      "source": [
        "datos.loc[\"supervisor\",[\"fechas\"]]"
      ],
      "metadata": {
        "id": "VqFvJxtANttb"
      },
      "execution_count": null,
      "outputs": []
    },
    {
      "cell_type": "code",
      "source": [
        "#datos.loc[1] # no se puede utilizar en el numero de indice(renglon) genera error"
      ],
      "metadata": {
        "id": "f09iTFRVOWkZ"
      },
      "execution_count": null,
      "outputs": []
    },
    {
      "cell_type": "code",
      "source": [
        "datos"
      ],
      "metadata": {
        "id": "TgAhCdf0OmhN"
      },
      "execution_count": null,
      "outputs": []
    },
    {
      "cell_type": "code",
      "source": [
        "#utilizar expresionas logicas en loc\n",
        "datos[\"saldo\"] >3000"
      ],
      "metadata": {
        "id": "kYVYIacxOoim"
      },
      "execution_count": null,
      "outputs": []
    },
    {
      "cell_type": "code",
      "source": [
        "#loc regresa la lectura de los datos dependiendo la funcion\n",
        "datos.loc[datos[\"saldo\"]>3000]"
      ],
      "metadata": {
        "id": "TwA5pLRnPkTl"
      },
      "execution_count": null,
      "outputs": []
    },
    {
      "cell_type": "code",
      "source": [
        "datos.loc[datos[\"al corriente\"]== False]"
      ],
      "metadata": {
        "id": "OGN6-2UkP5y8"
      },
      "execution_count": null,
      "outputs": []
    },
    {
      "cell_type": "code",
      "source": [
        "datos.loc[datos[\"al corriente\"],[\"fechas\",\"nombres\"]]"
      ],
      "metadata": {
        "id": "6vJUCraiQSFe"
      },
      "execution_count": null,
      "outputs": []
    },
    {
      "cell_type": "code",
      "source": [
        "datos[[\"saldo\",\"nombres\"]]"
      ],
      "metadata": {
        "id": "AD7rZF_PQuGM"
      },
      "execution_count": null,
      "outputs": []
    },
    {
      "cell_type": "code",
      "source": [
        "#iat[] regresa un elmento localixado en un indice y columna especifica\n",
        "datos.iat[2,2]"
      ],
      "metadata": {
        "id": "1NZvFjVdQ-4d"
      },
      "execution_count": null,
      "outputs": []
    },
    {
      "cell_type": "code",
      "source": [
        "type(datos.iat[2,2])"
      ],
      "metadata": {
        "id": "KfV8Q3LVRdfc"
      },
      "execution_count": null,
      "outputs": []
    },
    {
      "cell_type": "code",
      "source": [
        "datos.at[\"vendedor\",\"saldo\"]"
      ],
      "metadata": {
        "id": "hvklQXuFRlTP"
      },
      "execution_count": null,
      "outputs": []
    },
    {
      "cell_type": "code",
      "source": [
        "type(datos.at[\"vendedor\", \"saldo\"])"
      ],
      "metadata": {
        "id": "AC0TnO-bRrrk"
      },
      "execution_count": null,
      "outputs": []
    }
  ]
}