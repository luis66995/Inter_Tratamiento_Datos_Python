{
  "nbformat": 4,
  "nbformat_minor": 0,
  "metadata": {
    "colab": {
      "name": "NumpyOperaciones.ipynb",
      "private_outputs": true,
      "provenance": [],
      "authorship_tag": "ABX9TyMVnX3Hn3dqsaGroAHvkLW9",
      "include_colab_link": true
    },
    "kernelspec": {
      "name": "python3",
      "display_name": "Python 3"
    },
    "language_info": {
      "name": "python"
    }
  },
  "cells": [
    {
      "cell_type": "markdown",
      "metadata": {
        "id": "view-in-github",
        "colab_type": "text"
      },
      "source": [
        "<a href=\"https://colab.research.google.com/github/luis66995/Inter_Tratamiento_Datos_Python/blob/main/NumpyOperaciones.ipynb\" target=\"_parent\"><img src=\"https://colab.research.google.com/assets/colab-badge.svg\" alt=\"Open In Colab\"/></a>"
      ]
    },
    {
      "cell_type": "code",
      "execution_count": null,
      "metadata": {
        "id": "K0ur1Yov3nrH"
      },
      "outputs": [],
      "source": [
        "import numpy as np"
      ]
    },
    {
      "cell_type": "code",
      "source": [
        "m1=np.array([[1,2,3],\n",
        "            [10,11,12],\n",
        "            [-5,-8,-14]])\n",
        "m1"
      ],
      "metadata": {
        "id": "j-GjJuRE31WY"
      },
      "execution_count": null,
      "outputs": []
    },
    {
      "cell_type": "code",
      "source": [
        "#operaciones matriz\n",
        "m1*200\n",
        "\n",
        "print(\"multiplica matriz m1 del elemento 3 *10:[-5,-8.-14]x10\")\n",
        "m1[2]*10"
      ],
      "metadata": {
        "id": "PDwXfdnk4UK3"
      },
      "execution_count": null,
      "outputs": []
    },
    {
      "cell_type": "code",
      "source": [
        "#operadores logicos de comparacion\n",
        "m1>1"
      ],
      "metadata": {
        "id": "Lhn6YtEJ4-Js"
      },
      "execution_count": null,
      "outputs": []
    },
    {
      "cell_type": "code",
      "source": [
        "m2=np.array([1,2,3])\n",
        "m3=np.array([[2],[4],[6]])\n",
        "print(m1)\n",
        "print(m1.shape)\n",
        "print(m2)\n",
        "print(m2.shape)\n",
        "print(m3)\n",
        "print(m3.shape)"
      ],
      "metadata": {
        "id": "1ptMktcz5JlS"
      },
      "execution_count": null,
      "outputs": []
    },
    {
      "cell_type": "code",
      "source": [
        "m1*m2"
      ],
      "metadata": {
        "id": "7ry8b77Y56_6"
      },
      "execution_count": null,
      "outputs": []
    },
    {
      "cell_type": "code",
      "source": [
        "m1/m3"
      ],
      "metadata": {
        "id": "PPxivXWx5_CH"
      },
      "execution_count": null,
      "outputs": []
    },
    {
      "cell_type": "code",
      "source": [
        "m4=m1+20\n",
        "print(m4)"
      ],
      "metadata": {
        "id": "LnEmQNy16NqY"
      },
      "execution_count": null,
      "outputs": []
    },
    {
      "cell_type": "code",
      "source": [
        "m1*m4"
      ],
      "metadata": {
        "id": "efnZ-5sA6S94"
      },
      "execution_count": null,
      "outputs": []
    },
    {
      "cell_type": "code",
      "source": [
        "#generar arreglos con valores aleatorios\n",
        "al=np.random.rand(2,2,2)\n",
        "al"
      ],
      "metadata": {
        "id": "-zxq3HEI6i9A"
      },
      "execution_count": null,
      "outputs": []
    },
    {
      "cell_type": "code",
      "source": [
        "# funcionrandom int\n",
        "al=np.random.randint(2,256,(2,2,2))\n",
        "al"
      ],
      "metadata": {
        "id": "8NKGm7y463ew"
      },
      "execution_count": null,
      "outputs": []
    },
    {
      "cell_type": "code",
      "source": [
        "al=np.random.randint(0,256,(3,2,4))\n",
        "al"
      ],
      "metadata": {
        "id": "wvfDaf3s7fq_"
      },
      "execution_count": null,
      "outputs": []
    },
    {
      "cell_type": "code",
      "source": [
        "numeros = np.array([[2.43, -3, 48.9999, -5.61],\n",
        "                   [np.inf, -np.inf, np.inf, np.inf],\n",
        "                   [np.nan, 17.78, 12, 22]])\n",
        "numeros"
      ],
      "metadata": {
        "id": "bM7rXbWT7w78"
      },
      "execution_count": null,
      "outputs": []
    },
    {
      "cell_type": "code",
      "source": [
        "#funciones de valor\n",
        "print(np.abs(numeros))\n",
        "print(np.floor(numeros))\n",
        "print(np.ceil(numeros))\n",
        "print(np.round(numeros))"
      ],
      "metadata": {
        "id": "ACF8bG_z814q"
      },
      "execution_count": null,
      "outputs": []
    },
    {
      "cell_type": "markdown",
      "source": [
        "## Funciones estadísticas.\n",
        "\n",
        "* ```np.amax()```\n",
        "* ```np amin()```\n",
        "* ```np.argmax()```\n",
        "* ```np.argmin()```\n",
        "* ```np.average()```\n",
        "* ```np.correlate()```\n",
        "* ```np.corrcoef()```\n",
        "* ```np.count_nonzero()```\n",
        "* ```np.cov()```\n",
        "* ```np.cumprod()```\n",
        "* ```np.cumsum()```\n",
        "* ```np.histogram()```\n",
        "* ```np.histogram2d()```\n",
        "* ```np.histogram_bin_edges()```\n",
        "* ```np.histogramdd()```\n",
        "* ```np.max()```\n",
        "* ```np.mean()```\n",
        "* ```np.median()```\n",
        "* ```np.min()```\n",
        "* ```np.nanargmax()```\n",
        "* ```np.nanargmin()```\n",
        "* ```np.nancumprod()```\n",
        "* ```np.nancumsum()```\n",
        "* ```np.nanmax()```\n",
        "* ```np.nanmean()```\n",
        "* ```np.nanmedian()```\n",
        "* ```np.nanmin()```\n",
        "* ```np.nanpercentile()```\n",
        "* ```np.nanquantile()```\n",
        "* ```np.nanstd()```\n",
        "* ```np.nansum()```\n",
        "* ```np.nanvar()```\n",
        "* ```np.percentile()```\n",
        "* ```np.quantile()```\n",
        "* ```np.std()```\n",
        "* ```np.var()```\n"
      ],
      "metadata": {
        "id": "_ofYsnNZ-SjD"
      }
    },
    {
      "cell_type": "code",
      "source": [
        "print(np.max(numeros))\n",
        "print(np.nanmin(numeros))\n",
        "print()"
      ],
      "metadata": {
        "id": "BL0emV0K-UsZ"
      },
      "execution_count": null,
      "outputs": []
    },
    {
      "cell_type": "markdown",
      "source": [
        "## Funciones de valor\n",
        "* ```np.abs()```\n",
        "* ```np.around()```\n",
        "* ```np.ceil()```\n",
        "* ```np.exp()```\n",
        "* ```np.exp2()```\n",
        "* ```np.fabs()```\n",
        "* ```np.fix()```\n",
        "* ```np.floor()```\n",
        "* ```np.log()```\n",
        "* ```np.log10()```\n",
        "* ```np.log1p()```\n",
        "* ```np.log2()```\n",
        "* ```np.logaddexp()```\n",
        "* ```np.logaddexp2()```\n",
        "* ```np.round()```\n"
      ],
      "metadata": {
        "id": "r2_bT1pi_oKo"
      }
    },
    {
      "cell_type": "code",
      "source": [
        "#funciones de evaluacion de arreglos\n",
        "print(np.isfinite(numeros))\n",
        "print(np.isnan(numeros))\n",
        "print(np.isreal(numeros))\n",
        "print(np.isscalar(numeros))"
      ],
      "metadata": {
        "id": "2pkaLUg49SwN"
      },
      "execution_count": null,
      "outputs": []
    },
    {
      "cell_type": "code",
      "source": [
        "#copia y ordenamiento\n",
        "numeros1=numeros #alias de un arreglo\n",
        "numeros1=np.copy(numeros)#copia del arreglo\n",
        "numeros1"
      ],
      "metadata": {
        "id": "y5ECyQ5DAWxr"
      },
      "execution_count": null,
      "outputs": []
    },
    {
      "cell_type": "code",
      "source": [
        "numeros1.sort()\n",
        "numeros1"
      ],
      "metadata": {
        "id": "BBFjklwtArNQ"
      },
      "execution_count": null,
      "outputs": []
    },
    {
      "cell_type": "code",
      "source": [
        "numeros1.sort(axis=0)\n",
        "numeros1"
      ],
      "metadata": {
        "id": "ZZke-JKiBFes"
      },
      "execution_count": null,
      "outputs": []
    },
    {
      "cell_type": "code",
      "source": [
        "#funciones numpy para operaciones de arreglos\n",
        "a = np.array([1, 2, 3])\n",
        "b = np.array([(1, 2, 3), (4, 5, 6)])\n",
        "print(a)\n",
        "print(b)\n",
        "print(\"suma de dimensiones agarrando el array de diemnsion mas pequeño\")\n",
        "print(np.add(a,b))"
      ],
      "metadata": {
        "id": "zBQNoftRBTOh"
      },
      "execution_count": null,
      "outputs": []
    },
    {
      "cell_type": "code",
      "source": [
        "#suma total de los lementos con funciones\n",
        "a.sum()\n",
        "print(\"====================================\")\n",
        "np.sqrt(b)"
      ],
      "metadata": {
        "id": "htXeH-79B8wr"
      },
      "execution_count": null,
      "outputs": []
    },
    {
      "cell_type": "code",
      "source": [
        "#crear un arreglo con los resultados de una comparacion  logica\n",
        "c=b<=4\n",
        "c"
      ],
      "metadata": {
        "id": "BUbdxCdnCZ_Y"
      },
      "execution_count": null,
      "outputs": []
    }
  ]
}