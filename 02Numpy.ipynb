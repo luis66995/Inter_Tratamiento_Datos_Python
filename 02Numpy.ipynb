{
  "nbformat": 4,
  "nbformat_minor": 0,
  "metadata": {
    "colab": {
      "name": "02Numpy.ipynb",
      "private_outputs": true,
      "provenance": [],
      "authorship_tag": "ABX9TyPHom3s1YdJ8acm8nM3nOQJ",
      "include_colab_link": true
    },
    "kernelspec": {
      "name": "python3",
      "display_name": "Python 3"
    },
    "language_info": {
      "name": "python"
    }
  },
  "cells": [
    {
      "cell_type": "markdown",
      "metadata": {
        "id": "view-in-github",
        "colab_type": "text"
      },
      "source": [
        "<a href=\"https://colab.research.google.com/github/luis66995/Inter_Tratamiento_Datos_Python/blob/main/02Numpy.ipynb\" target=\"_parent\"><img src=\"https://colab.research.google.com/assets/colab-badge.svg\" alt=\"Open In Colab\"/></a>"
      ]
    },
    {
      "cell_type": "markdown",
      "source": [
        "# Conceptos básicos de *Numpy*.\n",
        "[*Numpy*](http://www.numpy.org/) es un paquete que contiene una biblioteca de recursos especializados en realizar operaciones optimizadas en arreglos de datos.\n",
        "\n",
        "El proyecto *Numpy* cuenta con una extensa documentación, la cual está disponible en https://docs.scipy.org/doc/numpy/.\n",
        "\n"
      ],
      "metadata": {
        "id": "OOazN1V42QKz"
      }
    },
    {
      "cell_type": "code",
      "source": [
        "#instalacion del paquete\n",
        "#!pip install nummpy"
      ],
      "metadata": {
        "id": "-sE5rNxH2pvL"
      },
      "execution_count": null,
      "outputs": []
    },
    {
      "cell_type": "code",
      "source": [
        "#importar numpy (pack)\n",
        "import numpy as np\n"
      ],
      "metadata": {
        "id": "1Zgv8i833Q1C"
      },
      "execution_count": null,
      "outputs": []
    },
    {
      "cell_type": "code",
      "source": [
        "arreglo=np.array((1,2,3))\n",
        "arreglo\n"
      ],
      "metadata": {
        "id": "HBvT-3IQ3hmq"
      },
      "execution_count": null,
      "outputs": []
    },
    {
      "cell_type": "code",
      "source": [
        "arreglo=np.array((1,2,3.55))\n",
        "arreglo\n",
        "print(type(arreglo))\n",
        "for i in arreglo:\n",
        "   print('valor: {}, tipo {}'.format(i,type(i)))"
      ],
      "metadata": {
        "id": "h7Z2XgEOrK54"
      },
      "execution_count": null,
      "outputs": []
    },
    {
      "cell_type": "code",
      "source": [
        "type(arreglo)"
      ],
      "metadata": {
        "id": "Gc-pnAsC33Ei"
      },
      "execution_count": null,
      "outputs": []
    },
    {
      "cell_type": "code",
      "source": [
        "for i in arreglo:\n",
        "  print('valor: {}, tipo {}'.format(i,type(i)))"
      ],
      "metadata": {
        "id": "syMnSxqWqako"
      },
      "execution_count": null,
      "outputs": []
    },
    {
      "cell_type": "code",
      "source": [
        "arreglo = np.array(['d', 3 , (12, 6, True)], dtype=object)\n",
        "for i in arreglo:\n",
        "   print('valor: {}, tipo {}'.format(i,type(i)))"
      ],
      "metadata": {
        "id": "kbTcL_qarii4"
      },
      "execution_count": null,
      "outputs": []
    },
    {
      "cell_type": "markdown",
      "source": [
        "### El atributo ```shape```.\n",
        "\n",
        "Los arreglos cuentan con el atributo ```shape```, el cual describe el número de elementos que contiene cada dimensión del arreglo.\n",
        "\n",
        "El valor de ```shape``` es un objeto tipo tuple que contiene una sucesión de números.\n",
        "\n",
        "```\n",
        "(<n1>, <n2>, <n3> ... <nm>)\n",
        "```\n",
        "\n",
        "* Donde ```<n1>``` corresponde al número de elementos en la primera dimensión,  ```<n2>``` corresponde al número de elementos en la segunda dimensión y así sucesivamente hasta ```<nm>``` , la cual corrersponde al número de elementos de la dimensión ```m```.\n"
      ],
      "metadata": {
        "id": "edQ4IQAQsFcy"
      }
    },
    {
      "cell_type": "code",
      "source": [
        "arreglo=np.array((1,2,3))\n",
        "print(arreglo.ndim) #numero de dimension del arreglo\n",
        "print(arreglo.shape)#numero de elementos en cada dimension\n",
        "print(arreglo.size)#numero de elementos en ele arreglo\n"
      ],
      "metadata": {
        "id": "rAwiYrWTsnzz"
      },
      "execution_count": null,
      "outputs": []
    },
    {
      "cell_type": "code",
      "source": [
        "#ARREGLO BIDIMENSIONAL\n",
        "arreglo = np.array([[1, 2, 3],\n",
        "                    [4, 5, 6]])\n",
        "\n",
        "print(arreglo.ndim) #numero de dimension del arreglo\n",
        "print(arreglo.shape)#numero de elementos en cada dimension\n",
        "print(arreglo.size)#numero de elementos en ele arreglo\n"
      ],
      "metadata": {
        "id": "rRYL4ltztJYL"
      },
      "execution_count": null,
      "outputs": []
    },
    {
      "cell_type": "code",
      "source": [
        "#ARREGLO TRIDIMENSIONAL\n",
        "arreglo = np.array([[[1, 2], [3, 4]],\n",
        "                    [[5, 6], [7, 8]]])\n",
        "\n",
        "\n",
        "print(arreglo.ndim) #numero de dimension del arreglo\n",
        "print(arreglo.shape)#numero de elementos en cada dimension\n",
        "print(arreglo.size)#numero de elementos en ele arreglo\n",
        "print(arreglo)"
      ],
      "metadata": {
        "id": "PVgWwkfrtfjw"
      },
      "execution_count": null,
      "outputs": []
    },
    {
      "cell_type": "code",
      "source": [
        "np.array(((1, 2), (3, 4))).shape\n",
        "\n",
        "np.array(((1, 2), (3, 4))).dtype"
      ],
      "metadata": {
        "id": "e5-qHB3uuFbJ"
      },
      "execution_count": null,
      "outputs": []
    },
    {
      "cell_type": "code",
      "source": [
        "np.array(((-1, 2), (3, 4)), dtype = np.uint64)\n"
      ],
      "metadata": {
        "id": "qLi2ptDnu0_5"
      },
      "execution_count": null,
      "outputs": []
    },
    {
      "cell_type": "code",
      "source": [
        "#arrays de tipo complejo:\n",
        "\n",
        "complejo=np.array([[25.6j, 11.24],\n",
        "                     [-21.890-15702174.43j, 0]])\n",
        "print(complejo)\n",
        "print(complejo.dtype)"
      ],
      "metadata": {
        "id": "dIURkbjZvBaG"
      },
      "execution_count": null,
      "outputs": []
    },
    {
      "cell_type": "code",
      "source": [
        "#arreglo boleano\n",
        "np.array(((1,'Hola'), (False, 0)), dtype = np.bool_)\n"
      ],
      "metadata": {
        "id": "5EPHo69WvtTV"
      },
      "execution_count": null,
      "outputs": []
    },
    {
      "cell_type": "code",
      "source": [
        "#arreglo de cadenas\n",
        "arr_cad=np.array((['Hugo', 'Paco'],['Luis Ignacio', 'Donald']))\n",
        "print(arr_cad)\n",
        "type(arr_cad)\n",
        "print(\"================================\")\n",
        "np.array((['Hugo', 'Paco'],['Luis Ignacio', 'Donald']), dtype = np.string_)\n",
        "\n"
      ],
      "metadata": {
        "id": "ZwlFkTVwv_v8"
      },
      "execution_count": null,
      "outputs": []
    },
    {
      "cell_type": "code",
      "source": [
        "#arrays de fechas \n",
        "from datetime import datetime\n",
        "fechas = np.array([[np.datetime64(\"2019-08-25T23:59:45.231\"), \n",
        "                   np.datetime64(\"2020-07-23\")],\n",
        "                   [np.datetime64(datetime(year=2018, month=12, day=22)),\n",
        "                   np.datetime64(\"2019-03-01T11:25\")]])\n",
        "print(fechas)"
      ],
      "metadata": {
        "id": "O053dlwcwkh9"
      },
      "execution_count": null,
      "outputs": []
    },
    {
      "cell_type": "code",
      "source": [
        "#deltatime\n",
        "np.datetime64(datetime.now()) - fechas\n"
      ],
      "metadata": {
        "id": "_OESY3C5xCmg"
      },
      "execution_count": null,
      "outputs": []
    },
    {
      "cell_type": "code",
      "source": [
        "a1 = np.array([[1, 2, 3],\n",
        "                    [4, 5, 6]])\n",
        "a2 = np.array([[1, 2, 3],\n",
        "                    [4, 5, 6]])\n",
        "\n",
        "a3=np.array((100,200))\n",
        "multiplicacion_array=a1*a2\n",
        "print(multiplicacion_array)\n",
        "suma_array=a1+a2\n",
        "print(suma_array)\n"
      ],
      "metadata": {
        "id": "QSI_UfQcx6ni"
      },
      "execution_count": null,
      "outputs": []
    },
    {
      "cell_type": "code",
      "source": [
        "#ndarray: regresa un arreglo con valores no definidos  cercanos a 0\n",
        "np.ndarray((2,2), dtype=float)"
      ],
      "metadata": {
        "id": "ODE18OqSy-FS"
      },
      "execution_count": null,
      "outputs": []
    },
    {
      "cell_type": "code",
      "source": [
        "#genera arreglos con unicamente ceros 0000\n",
        "np.zeros((2, 5, 3, 6))\n"
      ],
      "metadata": {
        "id": "xtMdpCjy0ZQ5"
      },
      "execution_count": null,
      "outputs": []
    },
    {
      "cell_type": "code",
      "source": [
        "np.zeros((2,2,2), dtype=bool)"
      ],
      "metadata": {
        "id": "x9QHd0YA0gn-"
      },
      "execution_count": null,
      "outputs": []
    },
    {
      "cell_type": "code",
      "source": [
        "#empty genera arreglos vacios\n",
        "np.empty((2,2,2), dtype=np.int8)\n"
      ],
      "metadata": {
        "id": "PvJzyUvR04TK"
      },
      "execution_count": null,
      "outputs": []
    },
    {
      "cell_type": "code",
      "source": [
        "#arreglos unidemnsionales con range\n",
        "np.arange(6,25)"
      ],
      "metadata": {
        "id": "ADEACnKR1lEg"
      },
      "execution_count": null,
      "outputs": []
    },
    {
      "cell_type": "code",
      "source": [
        "#arange(lim_inferior, lim_superior, salto)\n",
        "\n",
        "np.arange(-30,10,4)"
      ],
      "metadata": {
        "id": "wFVvPZ3u103b"
      },
      "execution_count": null,
      "outputs": []
    },
    {
      "cell_type": "code",
      "source": [
        "#linspace\n",
        "np.linspace(0,8)"
      ],
      "metadata": {
        "id": "Z-QDakJr2bU3"
      },
      "execution_count": null,
      "outputs": []
    },
    {
      "cell_type": "code",
      "source": [
        "#escribir un arreglo de tipo texto.txt\n",
        "arreglo=np.linspace(0,8,num=100)\n",
        "np.savetxt(\"arreglo.txt\", arreglo)\n",
        "\n"
      ],
      "metadata": {
        "id": "JXFWX3WW3jb3"
      },
      "execution_count": null,
      "outputs": []
    },
    {
      "cell_type": "code",
      "source": [
        "#escribir un archivo binario\n",
        "np.save(\"arreglo\", arreglo)"
      ],
      "metadata": {
        "id": "SFvl2lb735xZ"
      },
      "execution_count": null,
      "outputs": []
    },
    {
      "cell_type": "code",
      "source": [
        ""
      ],
      "metadata": {
        "id": "mw-oRIX44QAV"
      },
      "execution_count": null,
      "outputs": []
    },
    {
      "cell_type": "code",
      "source": [
        "#leer archivos \n",
        "arreglo2= np.loadtxt(\"arreglo.txt\")\n",
        "arreglo2"
      ],
      "metadata": {
        "id": "Kr7XVT_G4QCO"
      },
      "execution_count": null,
      "outputs": []
    },
    {
      "cell_type": "code",
      "source": [
        "%ls"
      ],
      "metadata": {
        "id": "gagigVJJ4od6"
      },
      "execution_count": null,
      "outputs": []
    },
    {
      "cell_type": "code",
      "source": [
        "np.savetxt(\"a1.txt\",a1)\n",
        "print(a1)"
      ],
      "metadata": {
        "id": "G6IoF0f95ar3"
      },
      "execution_count": null,
      "outputs": []
    },
    {
      "cell_type": "code",
      "source": [
        "%cat a1.txt.npy"
      ],
      "metadata": {
        "id": "_IEucvtJ6IK2"
      },
      "execution_count": null,
      "outputs": []
    },
    {
      "cell_type": "code",
      "source": [
        "np.savez(\"arreglos\",a1,a2,a3)"
      ],
      "metadata": {
        "id": "bjEl2lT56P7e"
      },
      "execution_count": null,
      "outputs": []
    },
    {
      "cell_type": "code",
      "source": [
        "%cat arreglos.npz"
      ],
      "metadata": {
        "id": "ZbjPJpuV6moW"
      },
      "execution_count": null,
      "outputs": []
    },
    {
      "cell_type": "code",
      "source": [
        "#leer varioas arreglos desde un archivo\n",
        "cargados=np.load(\"arreglos.npz\")\n",
        "cargados"
      ],
      "metadata": {
        "id": "oIvAoz2V6xO0"
      },
      "execution_count": null,
      "outputs": []
    },
    {
      "cell_type": "code",
      "source": [
        "#acceder a un arreglo cargado\n",
        "cargados[\"arr_0\"]"
      ],
      "metadata": {
        "id": "6eQUvULz7NI4"
      },
      "execution_count": null,
      "outputs": []
    },
    {
      "cell_type": "code",
      "source": [
        "with cargados as arr:\n",
        "  for i in arr:\n",
        "    print(i,arr[i])\n"
      ],
      "metadata": {
        "id": "Vd5j129r7V8Y"
      },
      "execution_count": null,
      "outputs": []
    },
    {
      "cell_type": "code",
      "source": [
        "#operaciones basicas con arreglos\n",
        "equipos = np.array([[['Lilia', 'Antonio', 'Ricardo'], ['Alonso', 'Jorge', 'Salvador']],\n",
        "                    [['Mariana', 'Julian', 'Ricardo'], ['Arturo', 'Ramy', 'Esteban']],\n",
        "                    [['Arturo', 'Ricardo', 'Lucio'], ['Jorge', 'Marco', 'Lilia']],\n",
        "                    [['Alonso', 'Julian', 'Salvador'], ['Ricardo', 'Jorge', 'Esteban']],\n",
        "                    [['Lucio', 'Ramy', 'Joaquín'], ['Ricardo', 'Marco', 'Lilia']]])\n",
        "equipos"
      ],
      "metadata": {
        "id": "XXvfP2Vq8iBc"
      },
      "execution_count": null,
      "outputs": []
    },
    {
      "cell_type": "markdown",
      "source": [
        "La siguiente tabla ejemplifica la conformación de las Equipos en una semana dada.\n",
        "\n",
        "||Equipo 1| Equipo 2|\n",
        "|:--:|:---:|:---:|\n",
        "|**Lunes**|Lilia, Antonio, Ricardo|Alonso, Jorge, Salvador|\n",
        "|**Martes**|Mariana, Julian, Ricardo|Arturo, Ramy, Esteban|\n",
        "|**Miércoles**|Arturo, Ricardo, Lucio|Jorge, Marco, Lilia|\n",
        "|**Jueves**|Alonso, Julian, Salvador|Ricardo, Jorge, Esteban|\n",
        "|**Viernes**|Lucio, Ramy, Joaquín|Ricardo, Marco, Lilia|\n"
      ],
      "metadata": {
        "id": "cnuP4QFM8_eA"
      }
    },
    {
      "cell_type": "code",
      "source": [
        "print(equipos.ndim)#dimension del arreglo \n",
        "print(equipos.shape) #forma del arreglo\n",
        "print(equipos.size)#numero  de elementos"
      ],
      "metadata": {
        "id": "YRtp4A5q9Sht"
      },
      "execution_count": null,
      "outputs": []
    },
    {
      "cell_type": "code",
      "source": [
        "#slices de arreglos\n",
        "equipos[1:3]"
      ],
      "metadata": {
        "id": "7wjygQcM9mf2"
      },
      "execution_count": null,
      "outputs": []
    },
    {
      "cell_type": "code",
      "source": [
        "equipos[1:3].shape"
      ],
      "metadata": {
        "id": "hBSz5vrT-MRV"
      },
      "execution_count": null,
      "outputs": []
    },
    {
      "cell_type": "code",
      "source": [
        "#ver el equipo 2 de los dias martes y miercoles\n",
        "equipos[1:3,1]"
      ],
      "metadata": {
        "id": "MQ3HRtiS-XMw"
      },
      "execution_count": null,
      "outputs": []
    },
    {
      "cell_type": "code",
      "source": [
        "equipos[1:3,1].shape"
      ],
      "metadata": {
        "id": "XW2wzOyk-r7U"
      },
      "execution_count": null,
      "outputs": []
    },
    {
      "cell_type": "code",
      "source": [
        "#ver los dos primeros integrantes del equipo 2 de los dias Lunes y martes\n",
        "\n",
        "equipos[1:3,1,0:2]"
      ],
      "metadata": {
        "id": "jmT70Jie-3wt"
      },
      "execution_count": null,
      "outputs": []
    },
    {
      "cell_type": "code",
      "source": [
        "\n",
        "equipos[1:3,1,0:2].shape"
      ],
      "metadata": {
        "id": "QaOoifzR_GOc"
      },
      "execution_count": null,
      "outputs": []
    },
    {
      "cell_type": "code",
      "source": [
        "#ver el tercer integrante del equipo 1 en todos los dias de la sem\n",
        "equipos[:,0 ,2:3]"
      ],
      "metadata": {
        "id": "Cgw3rJ5__RQl"
      },
      "execution_count": null,
      "outputs": []
    },
    {
      "cell_type": "code",
      "source": [
        "#ver al integrante 3  del equipo 2 del viernes\n",
        "equipos[4,1,2]"
      ],
      "metadata": {
        "id": "ADlKqLo-ATNo"
      },
      "execution_count": null,
      "outputs": []
    },
    {
      "cell_type": "code",
      "source": [
        "\n",
        "print(type(equipos[4,1,2]))\n",
        "print(equipos[4,1,2].shape)\n",
        "print(equipos[4,1,2].size)"
      ],
      "metadata": {
        "id": "LWOedSDEAeX-"
      },
      "execution_count": null,
      "outputs": []
    },
    {
      "cell_type": "markdown",
      "source": [
        "|Equipo 1| Equipo 2|\n",
        ":---:|:---:|\n",
        "|Paulina, Rigo, Paul|Kenia, Miguel, Carlos|\n"
      ],
      "metadata": {
        "id": "06dSI_qhCD_9"
      }
    },
    {
      "cell_type": "code",
      "source": [
        "remplazos = np.array([['Paulina', 'Rigo', 'Paul'], \n",
        "               ['Kenia', 'Miguel', 'Carlos']])\n",
        "remplazos"
      ],
      "metadata": {
        "id": "doRkOL7vCf8w"
      },
      "execution_count": null,
      "outputs": []
    },
    {
      "cell_type": "code",
      "source": [
        "remplazos.shape"
      ],
      "metadata": {
        "id": "SybL3byiCib5"
      },
      "execution_count": null,
      "outputs": []
    },
    {
      "cell_type": "code",
      "source": [
        "equipos[4]"
      ],
      "metadata": {
        "id": "VLYnmvMWCm_g"
      },
      "execution_count": null,
      "outputs": []
    },
    {
      "cell_type": "code",
      "source": [
        "equipos[4].shape"
      ],
      "metadata": {
        "id": "k2Qi42uvCrXl"
      },
      "execution_count": null,
      "outputs": []
    },
    {
      "cell_type": "code",
      "source": [
        "#cambiar elementos de un arreglo\n",
        "equipos[4]= remplazos\n",
        "equipos"
      ],
      "metadata": {
        "id": "eye7JKrCC4qb"
      },
      "execution_count": null,
      "outputs": []
    },
    {
      "cell_type": "code",
      "source": [
        "#cambiar 2 elementos de un arreglo\n",
        "equipos[2,0, 0:2]=[\"julio\",\"Ernesto\"]\n",
        "equipos"
      ],
      "metadata": {
        "id": "U9GftkB2ykTf"
      },
      "execution_count": null,
      "outputs": []
    },
    {
      "cell_type": "code",
      "source": [
        "#cambiar un solo elemento del arreglo\n",
        "equipos[3,1,2]=\"Ginacñ\"\n",
        "equipos"
      ],
      "metadata": {
        "id": "YsZJj5KuzOGr"
      },
      "execution_count": null,
      "outputs": []
    },
    {
      "cell_type": "code",
      "source": [
        "# es posible identificar elementod de una dimension usando arreglos indices\n",
        "iidx_1=np.array([2,0,3])\n",
        "print(iidx_1)\n",
        "print(equipos[iidx_1])\n"
      ],
      "metadata": {
        "id": "b1XbSqE8zm_b"
      },
      "execution_count": null,
      "outputs": []
    },
    {
      "cell_type": "code",
      "source": [
        "idx_2=np.array([[0 ,3],[1 ,4]])\n",
        "print(idx_2)\n",
        "print(equipos[idx_2])\n",
        "print(equipos[idx_2].shape)\n"
      ],
      "metadata": {
        "id": "t6Lsd97K03CJ"
      },
      "execution_count": null,
      "outputs": []
    },
    {
      "cell_type": "code",
      "source": [
        "#uso de multiples arreglos con indices\n",
        "idx_x=np.array([0,2])\n",
        "idx_y=np.array([0,1])# equipo 1 , 2\n",
        "equipos[idx_x, idx_y]\n"
      ],
      "metadata": {
        "id": "hfT7BL7C1zQa"
      },
      "execution_count": null,
      "outputs": []
    },
    {
      "cell_type": "code",
      "source": [
        "equipos"
      ],
      "metadata": {
        "id": "DY8lMJXi2elM"
      },
      "execution_count": null,
      "outputs": []
    },
    {
      "cell_type": "code",
      "source": [
        "#cambio de valor de un arreglo para todos los elementos designados\n",
        "equipos[4,0]=\"Fabiani\"\n",
        "equipos"
      ],
      "metadata": {
        "id": "sCa2Kwfx2gob"
      },
      "execution_count": null,
      "outputs": []
    },
    {
      "cell_type": "code",
      "source": [
        "#un mismo arreglo para todos los elementos de una dimension\n",
        "equipos[2]=np.array([\"Hugo\",\"paco\",\"Luis\"])\n",
        "equipos\n",
        "\n",
        "equipos[2].shape"
      ],
      "metadata": {
        "id": "GCIQMjqW215p"
      },
      "execution_count": null,
      "outputs": []
    }
  ]
}